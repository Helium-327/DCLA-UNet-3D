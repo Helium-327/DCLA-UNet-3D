{
 "cells": [
  {
   "cell_type": "code",
   "execution_count": 74,
   "id": "b4dd40ec",
   "metadata": {},
   "outputs": [],
   "source": [
    "from pathlib import Path\n",
    "import glob\n",
    "import os\n",
    "import pandas as pd"
   ]
  },
  {
   "cell_type": "code",
   "execution_count": null,
   "id": "ae42bbb5",
   "metadata": {},
   "outputs": [],
   "source": [
    "\n",
    "\n",
    "# help(glob)\n",
    "\n",
    "def search_instances(data_root, pattern=\"BraTS19*\", csv_saved_dir=None, filename=None):\n",
    "    \"\"\"\n",
    "    Search for instances in the dataset directory that match the given pattern.\n",
    "    \"\"\"\n",
    "    pattern = str(data_root / \"**\" / pattern)\n",
    "    \n",
    "    \n",
    "    csv_saved_path = Path(csv_saved_dir) / filename if filename else Path(csv_saved_dir) / \"all_instances.csv\"\n",
    "    \n",
    "    folder_paths = [\n",
    "        path for path in glob.glob(pattern)\n",
    "        if os.path.isdir(path)\n",
    "    ]\n",
    "    \n",
    "    instance_names = [\n",
    "        Path(p).name for p in folder_paths    \n",
    "        ]\n",
    "    \n",
    "    anlysizes_dict = {\n",
    "        \"instance_names\": instance_names,\n",
    "        \"folder_paths\": folder_paths\n",
    "        \n",
    "    }\n",
    "    df_results = pd.DataFrame(anlysizes_dict)\n",
    "    df_results.to_csv(csv_saved_path, index=False)\n",
    "    print(f\"Found {len(df_results)} instances matching pattern '{pattern}'\")\n",
    "    print(f\"Saved results to {csv_saved_path}\")\n",
    "    return df_results\n",
    "\n",
    "def split_datasets(df, ratios=(0.7,0.2,0.1), csv_saved_dir=None):\n",
    "    \"\"\"\n",
    "    Split the dataset into training, validation, and test sets.\n",
    "    \"\"\"\n",
    "    # assert train_ratio + val_ratio + test_ratio == 1, \"Ratios must sum to 1\"\n",
    "    \n",
    "    total_instances = len(df)\n",
    "    train_end = int(total_instances * ratios[0])\n",
    "    val_end = int(total_instances * (ratios[0] + ratios[1]))\n",
    "    \n",
    "    train_df = df.iloc[:train_end]\n",
    "    val_df = df.iloc[train_end:val_end]\n",
    "    test_df = df.iloc[val_end:]\n",
    "    \n",
    "    print(f\"Training set size: {len(train_df)}\")\n",
    "    print(f\"Validation set size: {len(val_df)}\")\n",
    "    print(f\"Test set size: {len(test_df)}\")\n",
    "    \n",
    "    if csv_saved_dir:\n",
    "        train_df.to_csv(Path(csv_saved_dir) / \"train.csv\", index=False)\n",
    "        val_df.to_csv(Path(csv_saved_dir) / \"val.csv\", index=False)\n",
    "        test_df.to_csv(Path(csv_saved_dir) / \"test.csv\", index=False)\n",
    "        print(f\"Saved split datasets to {csv_saved_dir}\")\n",
    "    return train_df, val_df, test_df\n"
   ]
  },
  {
   "cell_type": "code",
   "execution_count": null,
   "id": "3a54be30",
   "metadata": {},
   "outputs": [
    {
     "name": "stdout",
     "output_type": "stream",
     "text": [
      "Found 125 instances matching pattern '/root/workspace/DCLA-UNet/data/BraTS2020/raw/BraTS2020_ValidationData/**/BraTS20*'\n",
      "Saved results to /root/workspace/DCLA-UNet/data/BraTS2020/raw/val_instances.csv\n",
      "Training set size: 0\n",
      "Validation set size: 82\n",
      "Test set size: 43\n",
      "Saved split datasets to /root/workspace/DCLA-UNet/data/BraTS2020/raw/BraTS2020_ValidationData\n"
     ]
    }
   ],
   "source": [
    "    \n",
    "df = search_instances(data_root=Path('/root/workspace/DCLA-UNet/data/BraTS2020/raw/BraTS2020_ValidationData'),\n",
    "                      pattern=\"**/*_Segm.nii\", \n",
    "                      csv_saved_dir=Path('/root/workspace/DCLA-UNet/data/BraTS2020/raw'),\n",
    "                      filename=\"val_instances.csv\"\n",
    "                      )\n",
    "df\n",
    "train_df, val_df, test_df = split_datasets(df, \n",
    "                                           ratios=(0, 0.66, 0.33),\n",
    "                                           csv_saved_dir=Path('/root/workspace/DCLA-UNet/data/BraTS2020/raw/BraTS2020_ValidationData')\n",
    "                                           )"
   ]
  },
  {
   "cell_type": "code",
   "execution_count": 7,
   "id": "904517a3",
   "metadata": {},
   "outputs": [
    {
     "data": {
      "text/plain": [
       "['/root/workspace/DCLA-UNet/data/BraTS2020/raw/BraTS2020_TrainingData/BraTS20_Training_355/W39_1998.09.19_Segm.nii']"
      ]
     },
     "execution_count": 7,
     "metadata": {},
     "output_type": "execute_result"
    }
   ],
   "source": [
    "import glob\n",
    "from pathlib import Path\n",
    "\n",
    "\n",
    "pattern = \"**/*_Segm.nii\"\n",
    "pattern = str(Path('/root/workspace/DCLA-UNet/data/BraTS2020/raw/BraTS2020_TrainingData') / pattern)\n",
    "glob.glob(pattern)"
   ]
  },
  {
   "cell_type": "code",
   "execution_count": null,
   "id": "e67197a4",
   "metadata": {},
   "outputs": [],
   "source": []
  }
 ],
 "metadata": {
  "kernelspec": {
   "display_name": "cv",
   "language": "python",
   "name": "python3"
  },
  "language_info": {
   "codemirror_mode": {
    "name": "ipython",
    "version": 3
   },
   "file_extension": ".py",
   "mimetype": "text/x-python",
   "name": "python",
   "nbconvert_exporter": "python",
   "pygments_lexer": "ipython3",
   "version": "3.10.16"
  }
 },
 "nbformat": 4,
 "nbformat_minor": 5
}
